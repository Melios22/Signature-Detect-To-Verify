{
 "cells": [
  {
   "cell_type": "markdown",
   "metadata": {},
   "source": [
    "# Install and import necessary library, modules"
   ]
  },
  {
   "cell_type": "code",
   "execution_count": null,
   "metadata": {
    "_cell_guid": "b1076dfc-b9ad-4769-8c92-a6c4dae69d19",
    "_uuid": "8f2839f25d086af736a60e9eeb907d3b93b6e0e5",
    "execution": {
     "iopub.execute_input": "2025-04-18T10:35:35.292954Z",
     "iopub.status.busy": "2025-04-18T10:35:35.292669Z",
     "iopub.status.idle": "2025-04-18T10:35:40.722039Z",
     "shell.execute_reply": "2025-04-18T10:35:40.721196Z",
     "shell.execute_reply.started": "2025-04-18T10:35:35.292923Z"
    },
    "trusted": true
   },
   "outputs": [],
   "source": [
    "from IPython.display import clear_output # To clean up the installing lines\n",
    "!pip install ultralytics\n",
    "clear_output()\n",
    "print(\"Ultralytics installed!\")"
   ]
  },
  {
   "cell_type": "code",
   "execution_count": null,
   "metadata": {
    "execution": {
     "iopub.execute_input": "2025-04-18T10:35:40.723242Z",
     "iopub.status.busy": "2025-04-18T10:35:40.722951Z",
     "iopub.status.idle": "2025-04-18T10:35:45.668009Z",
     "shell.execute_reply": "2025-04-18T10:35:45.667285Z",
     "shell.execute_reply.started": "2025-04-18T10:35:40.723218Z"
    },
    "trusted": true
   },
   "outputs": [],
   "source": [
    "import os\n",
    "import glob\n",
    "import yaml\n",
    "import pandas as pd\n",
    "from PIL import Image\n",
    "\n",
    "import torch\n",
    "from ultralytics import YOLO\n",
    "device = 0 if torch.cuda.is_available() else 'cpu'"
   ]
  },
  {
   "cell_type": "markdown",
   "metadata": {},
   "source": [
    "___\n",
    "# Define the dataset yaml file\n",
    "YOLO expect the model be trained / fine-tuned on the data by define the yaml file that structure accordingly\n",
    "\n",
    "We include the training with the dataset of [SignverOD_yolov5_format: Signature Detection](https://www.kaggle.com/datasets/amshaky/signverod-yolov5), which is a modified version of this [SignverOD](https://www.kaggle.com/datasets/victordibia/signverod) dataset. The original dataset has many flaws in it, such as incorrect labeling, duplicates and misalignments. Moreover, the modified version is also prepared with the feasible YOLO-compatible structure.\n",
    "\n",
    "The dataset introduces 4 objects to detach, which are all version of handwritten:\n",
    "- Signatures\n",
    "- Redactions\n",
    "- Initials\n",
    "- Dates\n",
    "\n",
    "All of the fours are handwritten, which can easily mislead the modify into wrong localization."
   ]
  },
  {
   "cell_type": "code",
   "execution_count": null,
   "metadata": {
    "execution": {
     "iopub.execute_input": "2025-04-18T10:35:45.669204Z",
     "iopub.status.busy": "2025-04-18T10:35:45.668860Z",
     "iopub.status.idle": "2025-04-18T10:35:45.675542Z",
     "shell.execute_reply": "2025-04-18T10:35:45.674883Z",
     "shell.execute_reply.started": "2025-04-18T10:35:45.669185Z"
    },
    "trusted": true
   },
   "outputs": [],
   "source": [
    "def config_yaml(output_file: str = '/kaggle/working/signature.yaml'):\n",
    "    '''\n",
    "    Write the yaml file to define the dataset following YOLO's structure\n",
    "\n",
    "    Args:\n",
    "        output_file (str): The location to save the file.\n",
    "    '''\n",
    "    yaml_content = {\n",
    "        'train': '/kaggle/input/signverod-yolov5/signs_yolo_format/signs_yolo_format/images/train',\n",
    "        'val': '/kaggle/input/signverod-yolov5/signs_yolo_format/signs_yolo_format/images/valid',\n",
    "        'nc': 4,\n",
    "        'names': ['signature', 'initial', 'redaction', 'date'],\n",
    "    }\n",
    "    with open(output_file, 'w') as f:\n",
    "        yaml.dump(yaml_content, f, default_flow_style=False)\n",
    "        print(f\"Save to {output_file}\")\n",
    "\n",
    "config_yaml()"
   ]
  },
  {
   "cell_type": "markdown",
   "metadata": {},
   "source": [
    "___\n",
    "# Load pre-trained model from the Ultralytics and perform train on the signature dataset"
   ]
  },
  {
   "cell_type": "code",
   "execution_count": null,
   "metadata": {
    "execution": {
     "iopub.execute_input": "2025-04-18T10:35:45.677005Z",
     "iopub.status.busy": "2025-04-18T10:35:45.676689Z",
     "iopub.status.idle": "2025-04-18T10:35:45.691201Z",
     "shell.execute_reply": "2025-04-18T10:35:45.690386Z",
     "shell.execute_reply.started": "2025-04-18T10:35:45.676975Z"
    },
    "trusted": true
   },
   "outputs": [],
   "source": [
    "model = YOLO(\"yolo11s.pt\")"
   ]
  },
  {
   "cell_type": "code",
   "execution_count": null,
   "metadata": {
    "execution": {
     "iopub.execute_input": "2025-04-18T10:35:45.692495Z",
     "iopub.status.busy": "2025-04-18T10:35:45.692202Z",
     "iopub.status.idle": "2025-04-18T10:35:45.702783Z",
     "shell.execute_reply": "2025-04-18T10:35:45.702114Z",
     "shell.execute_reply.started": "2025-04-18T10:35:45.692464Z"
    },
    "trusted": true
   },
   "outputs": [],
   "source": [
    "%%capture train_out # To limit the output printed, uncomment if needed\n",
    "num_epochs = 50\n",
    "rs = model.train(\n",
    "    data='/kaggle/working/signature.yaml', # Dataset yaml file\n",
    "    epochs=num_epochs, # Number of epochs\n",
    "    imgsz=768, # The size of the images to be resized, can be up-sized for such small object detections like signatures\n",
    "    batch=16, \n",
    "    device=device, # Using GPU or CPU\n",
    "    project='/kaggle/working/yolo_detect', # Naming the folder to save the training data\n",
    "    name='exp',\n",
    "    save=True,\n",
    "    pretrained=False,\n",
    ")\n",
    "\n",
    "# After training, the model will output 2 file within the defined_folder/weights:\n",
    "# - best.pt\n",
    "# - last.pt"
   ]
  },
  {
   "cell_type": "markdown",
   "metadata": {},
   "source": [
    "___\n",
    "# Push the trained model to hub"
   ]
  },
  {
   "cell_type": "code",
   "execution_count": null,
   "metadata": {
    "execution": {
     "iopub.execute_input": "2025-04-18T10:35:45.705137Z",
     "iopub.status.busy": "2025-04-18T10:35:45.704922Z",
     "iopub.status.idle": "2025-04-18T10:35:45.714320Z",
     "shell.execute_reply": "2025-04-18T10:35:45.713659Z",
     "shell.execute_reply.started": "2025-04-18T10:35:45.705119Z"
    },
    "trusted": true
   },
   "outputs": [],
   "source": [
    "# from huggingface_hub import HfApi\n",
    "# HF_TOKEN = \"YOUR-HF-TOKEN\"\n",
    "\n",
    "# api = HfApi(token=HF_TOKEN)\n",
    "# api.upload_folder(\n",
    "#     folder_path=\"path-to-best.pt\", # Change this path to the best.pt training file, or the earlier `model_path`\n",
    "#     repo_id=\"Mels22/Signature-Detection-Verification\",\n",
    "#     repo_type=\"model\",\n",
    "# )"
   ]
  },
  {
   "cell_type": "markdown",
   "metadata": {},
   "source": [
    "___\n",
    "# Evaluate the trained model\n",
    "\n",
    "The model is pulled back from Hugging Face"
   ]
  },
  {
   "cell_type": "code",
   "execution_count": null,
   "metadata": {
    "execution": {
     "iopub.execute_input": "2025-04-18T10:35:45.715737Z",
     "iopub.status.busy": "2025-04-18T10:35:45.715429Z",
     "iopub.status.idle": "2025-04-18T10:35:46.646868Z",
     "shell.execute_reply": "2025-04-18T10:35:46.645962Z",
     "shell.execute_reply.started": "2025-04-18T10:35:45.715709Z"
    },
    "trusted": true
   },
   "outputs": [],
   "source": [
    "from huggingface_hub import hf_hub_download\n",
    "MODEL_REPO = \"Mels22/Signature-Detection-Verification\"\n",
    "\n",
    "# If the file is not in the current dir, download it from hub\n",
    "detector_filename = \"detector_yolo_4cls.pt\"\n",
    "if not os.path.isfile(detector_filename):\n",
    "    print(f\"Download {detector_filename} from hub\")\n",
    "    hf_hub_download(repo_id=MODEL_REPO, filename=detector_filename, local_dir='.')"
   ]
  },
  {
   "cell_type": "code",
   "execution_count": null,
   "metadata": {
    "execution": {
     "iopub.execute_input": "2025-04-18T10:35:46.648223Z",
     "iopub.status.busy": "2025-04-18T10:35:46.647842Z",
     "iopub.status.idle": "2025-04-18T10:37:18.049234Z",
     "shell.execute_reply": "2025-04-18T10:37:18.048195Z",
     "shell.execute_reply.started": "2025-04-18T10:35:46.648191Z"
    },
    "trusted": true
   },
   "outputs": [],
   "source": [
    "%%capture val_out\n",
    "model = YOLO(detector_filename) # Load the model and begin eval on it\n",
    "metrics = model.val(\n",
    "    data='signature.yaml', # Dataset yaml \n",
    ")"
   ]
  },
  {
   "cell_type": "code",
   "execution_count": null,
   "metadata": {
    "execution": {
     "iopub.execute_input": "2025-04-18T10:37:18.051155Z",
     "iopub.status.busy": "2025-04-18T10:37:18.050514Z",
     "iopub.status.idle": "2025-04-18T10:37:18.079510Z",
     "shell.execute_reply": "2025-04-18T10:37:18.078601Z",
     "shell.execute_reply.started": "2025-04-18T10:37:18.051118Z"
    },
    "trusted": true
   },
   "outputs": [],
   "source": [
    "dat = {\n",
    "    'precision': metrics.box.p,\n",
    "    'recall': metrics.box.r,\n",
    "    'mAP@50': metrics.box.ap50,\n",
    "    'mAP50-95': metrics.box.ap,\n",
    "} # Take out the metrics of the detections\n",
    "\n",
    "df = pd.DataFrame(dat, index=['signature', 'initial', 'redaction', 'date'])\n",
    "df = pd.concat([df, pd.DataFrame([metrics.mean_results()], index=['mean'], columns=df.columns)]) # Add a average row\n",
    "\n",
    "pd.DataFrame(df) # Load out the data on evaluation"
   ]
  },
  {
   "cell_type": "markdown",
   "metadata": {},
   "source": [
    "___\n",
    "# Inference with the model"
   ]
  },
  {
   "cell_type": "code",
   "execution_count": null,
   "metadata": {
    "execution": {
     "iopub.execute_input": "2025-04-18T10:37:18.080964Z",
     "iopub.status.busy": "2025-04-18T10:37:18.080501Z",
     "iopub.status.idle": "2025-04-18T10:37:18.087282Z",
     "shell.execute_reply": "2025-04-18T10:37:18.086421Z",
     "shell.execute_reply.started": "2025-04-18T10:37:18.080942Z"
    },
    "trusted": true
   },
   "outputs": [],
   "source": [
    "def get_predictions(model, image_path, show=False):\n",
    "    \"\"\"\n",
    "    Get bounding boxes and confidences from a single image.\n",
    "    \n",
    "    Args:\n",
    "        model: Loaded YOLO model\n",
    "        image_path (str): Path to an image\n",
    "        \n",
    "    Returns:\n",
    "        List of dicts with 'label', 'confidence', and 'bbox' keys\n",
    "    \"\"\"\n",
    "    results = model(image_path)[0]\n",
    "    if show:\n",
    "        results[0].show() # Display the detected image\n",
    "    preds = []\n",
    "    for box, cls, conf in zip(results.boxes.xywhn, results.boxes.cls, results.boxes.conf):\n",
    "        x1, y1, x2, y2 = map(float, box.tolist())\n",
    "        preds.append({\n",
    "            'label': model.names[int(cls)],\n",
    "            'confidence': float(conf),\n",
    "            'bbox': (x1, y1, x2, y2)\n",
    "        }) # Loop through each detection and note down into the predictions\n",
    "    return preds\n",
    "\n",
    "def run_inference(model_path, input_path, show=False):\n",
    "    \"\"\"\n",
    "    Load model and run inference on a single image or a folder of images.\n",
    "    \n",
    "    Args:\n",
    "        model_path (str): Path to YOLO model (.pt)\n",
    "        input_path (str): Path to a single image or a folder\n",
    "        \n",
    "    Returns:\n",
    "        Dictionary mapping image filenames to lists of predictions\n",
    "    \"\"\"\n",
    "    # Load the model and find the relevant image file/folder\n",
    "    model = YOLO(model_path)\n",
    "    if os.path.isdir(input_path):\n",
    "        image_paths = glob.glob(os.path.join(input_path, '*.jpg')) + glob.glob(os.path.join(input_path, '*.png'))\n",
    "    else:\n",
    "        image_paths = [input_path]\n",
    "\n",
    "    # Get all predictions\n",
    "    all_results = {}\n",
    "    for img_path in image_paths:\n",
    "        preds = get_predictions(model, img_path, show)\n",
    "        all_results[os.path.basename(img_path)] = preds\n",
    "    \n",
    "    return all_results"
   ]
  },
  {
   "cell_type": "code",
   "execution_count": null,
   "metadata": {
    "execution": {
     "iopub.execute_input": "2025-04-18T10:37:18.088324Z",
     "iopub.status.busy": "2025-04-18T10:37:18.088093Z",
     "iopub.status.idle": "2025-04-18T10:37:18.570645Z",
     "shell.execute_reply": "2025-04-18T10:37:18.569725Z",
     "shell.execute_reply.started": "2025-04-18T10:37:18.088292Z"
    },
    "trusted": true
   },
   "outputs": [],
   "source": [
    "run_inference(\n",
    "    model_path=detector_filename, \n",
    "    input_path='/kaggle/input/signverod-yolov5/signs_yolo_format/signs_yolo_format/images/valid/2030.png', # Test image path (file/folder)\n",
    "    show=True,\n",
    ")"
   ]
  }
 ],
 "metadata": {
  "kaggle": {
   "accelerator": "nvidiaTeslaT4",
   "dataSources": [
    {
     "databundleVersionId": 4774938,
     "datasetId": 2726203,
     "sourceId": 4712418,
     "sourceType": "datasetVersion"
    }
   ],
   "dockerImageVersionId": 30919,
   "isGpuEnabled": true,
   "isInternetEnabled": true,
   "language": "python",
   "sourceType": "notebook"
  },
  "kernelspec": {
   "display_name": "Python 3",
   "language": "python",
   "name": "python3"
  },
  "language_info": {
   "codemirror_mode": {
    "name": "ipython",
    "version": 3
   },
   "file_extension": ".py",
   "mimetype": "text/x-python",
   "name": "python",
   "nbconvert_exporter": "python",
   "pygments_lexer": "ipython3",
   "version": "3.10.12"
  }
 },
 "nbformat": 4,
 "nbformat_minor": 4
}
